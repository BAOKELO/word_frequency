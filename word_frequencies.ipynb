{
 "cells": [
  {
   "cell_type": "code",
   "execution_count": 3,
   "id": "3e68c26c-cca5-4fcf-9269-64e7c1edb370",
   "metadata": {},
   "outputs": [
    {
     "name": "stdin",
     "output_type": "stream",
     "text": [
      "Enter text how are you\n"
     ]
    },
    {
     "name": "stdout",
     "output_type": "stream",
     "text": [
      "{'how': 1, 'are': 1, 'you': 1}\n"
     ]
    }
   ],
   "source": [
    "def main():\n",
    "    words = input(\"Enter text\").split()\n",
    "    #create empty dictionary\n",
    "    word_frequencies = {}\n",
    "    for word in words:\n",
    "        word_frequencies[word] = word_frequencies.get(word, 0) + 1\n",
    "\n",
    "    print(word_frequencies)\n",
    "\n",
    "if __name__ == \"__main__\":\n",
    "    main()\n"
   ]
  },
  {
   "cell_type": "code",
   "execution_count": 5,
   "id": "e47fc8da-f343-4fb1-b4bc-269ce3b18e92",
   "metadata": {},
   "outputs": [
    {
     "name": "stdin",
     "output_type": "stream",
     "text": [
      "Enter text im well\n"
     ]
    },
    {
     "name": "stdout",
     "output_type": "stream",
     "text": [
      "{'im': 1, 'well': 1}\n"
     ]
    }
   ],
   "source": [
    "example_2 = main()"
   ]
  },
  {
   "cell_type": "code",
   "execution_count": null,
   "id": "8b983d49-60b0-4122-b6bd-2819918e9786",
   "metadata": {},
   "outputs": [],
   "source": []
  }
 ],
 "metadata": {
  "kernelspec": {
   "display_name": "Python [conda env:base] *",
   "language": "python",
   "name": "conda-base-py"
  },
  "language_info": {
   "codemirror_mode": {
    "name": "ipython",
    "version": 3
   },
   "file_extension": ".py",
   "mimetype": "text/x-python",
   "name": "python",
   "nbconvert_exporter": "python",
   "pygments_lexer": "ipython3",
   "version": "3.12.7"
  }
 },
 "nbformat": 4,
 "nbformat_minor": 5
}
